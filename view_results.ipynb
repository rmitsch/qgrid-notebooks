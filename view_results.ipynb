{
 "cells": [
  {
   "cell_type": "code",
   "execution_count": 12,
   "metadata": {},
   "outputs": [],
   "source": [
    "import pandas as pd\n",
    "import qgrid\n",
    "import urllib.request\n",
    "import download_from_gdrive as gdrive_download"
   ]
  },
  {
   "cell_type": "markdown",
   "metadata": {},
   "source": [
    "Download data."
   ]
  },
  {
   "cell_type": "code",
   "execution_count": 13,
   "metadata": {},
   "outputs": [],
   "source": [
    "filepath = \"data.pkl\"\n",
    "gdrive_download.download_file_from_google_drive(\"FILE_ID\", filepath)"
   ]
  },
  {
   "cell_type": "markdown",
   "metadata": {},
   "source": [
    "Preprocess data for usage in table."
   ]
  },
  {
   "cell_type": "code",
   "execution_count": 14,
   "metadata": {},
   "outputs": [],
   "source": [
    "df = pd.read_pickle(path=filepath)\n",
    "\n",
    "# Make links clickable.\n",
    "df.url = \"<a href=\" + df.url + \">\" + df.url + \"</a>\"\n",
    "# Force line breaks in text after sentence end (line wraps in qgrid apparently not possible w/o changes to \n",
    "# underlying JS library).\n",
    "df.text = df.text.str.replace(r\"([a-zA-Z]+\\.|\\?|!)(\\s|$)\", \"\\g<1><br>\")\n",
    "\n",
    "df = df[[\n",
    "    \"publish_date\", \n",
    "    \"source_name\", \n",
    "    \"url\", \n",
    "    \"title\", \n",
    "    \"text\", \n",
    "    \"company_primary_prob\", \n",
    "    \"company_primary\", \n",
    "    \"company_secondary_prob\", \n",
    "    \"company_secondary\",\n",
    "    'digital_business_transformation',\n",
    "    'business_model_customer_experience',\n",
    "    'collaboration_mobility_innovation_creativity', \n",
    "    'technology',\n",
    "    'startups'\n",
    "]]"
   ]
  },
  {
   "cell_type": "markdown",
   "metadata": {},
   "source": [
    "Launch dataframe viewer."
   ]
  },
  {
   "cell_type": "code",
   "execution_count": 15,
   "metadata": {},
   "outputs": [
    {
     "data": {
      "application/vnd.jupyter.widget-view+json": {
       "model_id": "3d7e64b5701b4692bd5e6387825f79af",
       "version_major": 2,
       "version_minor": 0
      },
      "text/plain": [
       "QgridWidget(grid_options={'fullWidthRows': True, 'syncColumnCellResize': True, 'forceFitColumns': True, 'defau…"
      ]
     },
     "metadata": {},
     "output_type": "display_data"
    }
   ],
   "source": [
    "qgrid_widget = qgrid.show_grid(\n",
    "    df, \n",
    "    show_toolbar=True, \n",
    "    grid_options={\n",
    "        'forceFitColumns': True, \n",
    "        \"rowHeight\": 200, \n",
    "        'enableColumnReorder': True, \n",
    "        \"highlightSelectedCell\": True\n",
    "    }, \n",
    "    column_options={'editable': False}\n",
    ")\n",
    "qgrid_widget"
   ]
  }
 ],
 "metadata": {
  "kernelspec": {
   "display_name": "skope-confare",
   "language": "python",
   "name": "skope-confare"
  },
  "language_info": {
   "codemirror_mode": {
    "name": "ipython",
    "version": 3
   },
   "file_extension": ".py",
   "mimetype": "text/x-python",
   "name": "python",
   "nbconvert_exporter": "python",
   "pygments_lexer": "ipython3",
   "version": "3.7.2"
  }
 },
 "nbformat": 4,
 "nbformat_minor": 2
}
